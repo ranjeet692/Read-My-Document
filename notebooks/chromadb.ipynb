{
 "cells": [
  {
   "cell_type": "code",
   "execution_count": 2,
   "id": "0eb4445f-1ab8-4ec0-b5dd-2294c65944c3",
   "metadata": {},
   "outputs": [],
   "source": [
    "from langchain.vectorstores import Chroma\n",
    "from langchain.embeddings import OpenAIEmbeddings, HuggingFaceEmbeddings\n",
    "from langchain.text_splitter import RecursiveCharacterTextSplitter\n",
    "from langchain.chains import RetrievalQA\n",
    "from langchain.llms import OpenAI\n",
    "import chromadb\n",
    "from chromadb.config import Settings\n",
    "from pypdf import PdfReader\n",
    "from typing import List\n",
    "from langchain.schema import Document"
   ]
  },
  {
   "cell_type": "code",
   "execution_count": 3,
   "id": "877b382f-f0c7-4a78-9dff-836db7c48c10",
   "metadata": {},
   "outputs": [],
   "source": [
    "import os"
   ]
  },
  {
   "cell_type": "markdown",
   "id": "97db0bc0-c586-4566-8c5f-ddef7c845683",
   "metadata": {},
   "source": [
    "***Fill your OpenAI Keys Here***"
   ]
  },
  {
   "cell_type": "code",
   "execution_count": 4,
   "id": "4a48b6fd-a938-46b5-b6e9-e0bfeae4dcc8",
   "metadata": {},
   "outputs": [],
   "source": [
    "os.environ[\"OPENAI_API_KEY\"] = \"\""
   ]
  },
  {
   "cell_type": "markdown",
   "id": "f5c4ac58-d00b-41b7-b17f-55e5d4d61ccd",
   "metadata": {},
   "source": [
    "## Data Ingestion\n",
    "Let's ingest some sample documents, embed them and store in the collection"
   ]
  },
  {
   "cell_type": "code",
   "execution_count": 5,
   "id": "4c273490-a20a-43b6-a191-5079b6ecfd55",
   "metadata": {},
   "outputs": [],
   "source": [
    "pdf = PdfReader(\"sample_dataset/Resume.pdf\")\n",
    "pages = []\n",
    "for page in pdf.pages:\n",
    "    text = page.extract_text()\n",
    "    pages.append(text)"
   ]
  },
  {
   "cell_type": "markdown",
   "id": "6d73c199-4ecc-4ac2-a80d-fbc8598f8ec7",
   "metadata": {},
   "source": [
    "## Convert text into Document"
   ]
  },
  {
   "cell_type": "code",
   "execution_count": 6,
   "id": "d209d074-9913-4187-82c7-996c71e1a9e7",
   "metadata": {},
   "outputs": [],
   "source": [
    "def text_to_document(text: str | List[str]) -> List[Document]:\n",
    "    \"\"\"Converts text or list of text into document chunks\"\"\"\n",
    "    if isinstance(text, str):\n",
    "        text = [text]\n",
    "\n",
    "    doc_chunks = []\n",
    "    #split document into chunks\n",
    "    for i, doc in enumerate(text):\n",
    "        text_splitter = RecursiveCharacterTextSplitter(\n",
    "            chunk_size=1000, \n",
    "            separators=[\"\\n\", \"\\r\\n\", \"\\r\"], \n",
    "            chunk_overlap=0\n",
    "        )\n",
    "\n",
    "        chunks = text_splitter.split_text(doc)\n",
    "        \n",
    "        for j, chunk in enumerate(chunks):\n",
    "            document = Document(\n",
    "                page_content = chunk,\n",
    "                metadata = {\n",
    "                    \"page\": i, \n",
    "                    \"chunk\": i,\n",
    "                    \"source\": f\"{i}-{j}\"\n",
    "                }\n",
    "            )\n",
    "            doc_chunks.append(document)\n",
    "    return doc_chunks"
   ]
  },
  {
   "cell_type": "code",
   "execution_count": 7,
   "id": "5d0b0edb-a57a-44c1-b181-a76f947ff9c8",
   "metadata": {},
   "outputs": [
    {
     "name": "stdout",
     "output_type": "stream",
     "text": [
      "[Document(page_content=\"+918985086974\\nranjeetkumar692@gmail.com\\nLinkedIn , GithubC O N T A C T P R O F I L E\\nS K I L L S\\nE D U C A T I O NW O R K  E X P E R I E N C E\\nProgramming/Frameworks\\nNodeJs, Python, Javascript, Java,\\nAWSMySQL, PostgreSQL, MongoDB,\\nCassandra, Bigquery, AWS Athena, Redis,\\nElasticsearch  \\nMaster of Computer Applications\\nUniversity of Hyderabad, Hyderabad\\n2012-2015\\nB.Sc. (Information Technology)\\nSt. Xavier's College, Ranchi\\n2008-2011Sr Product Architect\\nSummit Publishing Co, Inc  (Remote)\\nRecommendation System:  Developed a recommendation system that can be\\neasily integrated with Summit Media's brand websites and recommend articles\\nfor further reading to the readers. It was a javascript widget using NodeJS-\\nbased backend and ML services.\\nAWS Cost Optimization:  Optimized datalake and data warehouse usages to\\nreduce data product infrastructure costs up to $6000 monthly.    \\nUnified Identity Solution:  a javascript and python-based project to identify guest\", metadata={'page': 0, 'chunk': 0, 'source': '0-0'}), Document(page_content='users across domains for better ad target.   \\nNewsletter Automation:  A Python project to send newsletters to users based on\\ntheir past read history.\\nArticle  Auto Tagging:  A machine learning-based service that generates tags\\nbased on a taxonomy sheet for better SEO performance.Jan 2021-PresentI am a senior software product architect & developer and have a total of 8 years of\\nexperience. I am seeking a role as a solution architect in a core tech-based\\norganization.\\nIn my current organization I am mostly working on designing and implementing\\ndata-based products, I mostly work with software, data engineers, and business\\nowners. I also went through a leadership program in Summit where I have been\\ntrained to use coaching methods in team building. I have a great interest in\\ndesigning software products, learning new technologies, and reading about how\\ndifferent business domains use tech.  \\nL A N G U A G E S\\nEnglish HindiR A N J E E T  K U M A R\\nSOFTWARE ARCHITECT', metadata={'page': 0, 'chunk': 0, 'source': '0-1'}), Document(page_content='Co-founder, Full Stack Developer\\nNeo Script Technologies Pvt Ltd\\nUniversity ERP: A BPM & Rule Engine-based digital transformation project to\\nbring all student-related processes online. The scope of this project included\\nrequirements collection, development, and training. We developed this project\\nas a partner with the University of Hyderabad.\\nAgri Lien Management: A web application for bankers owned by Star Agri, to\\nprovide loans against agri products.  \\nOnline Coding Lab: This is the core product of Neoscript. It is a web-based\\napplication to make coding classes interactive in college labs where teacher can\\ninstantly give feedback to students about their coding skills. Platform has a\\nbuilt-in online-judge to check correctness and coding styles.Feb 2016-Dec 2020\\nDevOps, Full Stack Developer\\nCloudboost.io April 2015-Jan 2016\\nMobile App: Developed an Ionic-based hybrid mobile application that enables\\nusers to buy nearby deals. It was developed for another startup called FYIPE.', metadata={'page': 0, 'chunk': 0, 'source': '0-2'}), Document(page_content=\"Product on Cloud Marketplace:   Created a virtual image with auto-deployment\\nscripts to launch a compute instance on AWS, Azure, and private servers.\\nSDK Development: Contributed to Javascript SDK and created Java SDK to use\\nCloudboost's services in web and native apps.\\nCloudboost Backend: contributed to the development of real-time and file\\nupload features in NodeJS and worked with multiple databases.HTML, CSS, ReactJs, AngularJs, Shell\\nScript\\nDatabases\\nCloud\\nTools\\nGit, JIRA, Redmine, Docker, Google\\nAnalytics, Mixpanel, Looker Studio,\\ncamunda BPM, KeycloakHyderabad\\nOthers\\nMicroservices, Linux, REST APIs,\\nServerless, Coaching, Agile Methodology\", metadata={'page': 0, 'chunk': 0, 'source': '0-3'})]\n"
     ]
    }
   ],
   "source": [
    "doc_chunks = text_to_document(pages)\n",
    "print(doc_chunks)"
   ]
  },
  {
   "cell_type": "markdown",
   "id": "490a1169-b803-426f-a0c8-43cb7033f255",
   "metadata": {},
   "source": [
    "## Embed and Store Document (ChromaDB)\n",
    "once the pdf data is successfully parsed, we will embed this data and store in chromadb"
   ]
  },
  {
   "cell_type": "code",
   "execution_count": 7,
   "id": "3c7a0007-5a73-4089-9831-6071e7a17c96",
   "metadata": {},
   "outputs": [],
   "source": [
    "vector_store = Chroma.from_documents(\n",
    "    documents = doc_chunks, \n",
    "    embedding = HuggingFaceEmbeddings(), \n",
    "    persist_directory = \"./test\",\n",
    "    collection_name =\"test_collection\"\n",
    ")"
   ]
  },
  {
   "cell_type": "code",
   "execution_count": 8,
   "id": "ad87dc67-5080-4b5e-a766-51bf80c85872",
   "metadata": {},
   "outputs": [],
   "source": [
    "client = chromadb.Client(Settings(\n",
    "    persist_directory=\"./test\" # Optional, defaults to .chromadb/ in the current directory\n",
    "))"
   ]
  },
  {
   "cell_type": "code",
   "execution_count": 10,
   "id": "35d8dc64-ec6f-4874-9c03-d5f535587cb3",
   "metadata": {},
   "outputs": [],
   "source": [
    "index = Chroma(\n",
    "    embedding_function = HuggingFaceEmbeddings(), \n",
    "    persist_directory = \"./test\",\n",
    "    collection_name =\"test_collection\"\n",
    ")"
   ]
  },
  {
   "cell_type": "code",
   "execution_count": 12,
   "id": "b6148bce-1e6b-430d-8597-a07ac1c0b2db",
   "metadata": {},
   "outputs": [],
   "source": [
    "qa = RetrievalQA.from_chain_type(\n",
    "            llm=OpenAI(), \n",
    "            chain_type=\"stuff\", \n",
    "            retriever=index.as_retriever(), \n",
    "            return_source_documents=True,\n",
    "            verbose=True\n",
    "        )"
   ]
  },
  {
   "cell_type": "code",
   "execution_count": 13,
   "id": "c980d239-c989-4a53-bf89-5116ff4e4f32",
   "metadata": {},
   "outputs": [
    {
     "name": "stdout",
     "output_type": "stream",
     "text": [
      "\n",
      "\n",
      "\u001b[1m> Entering new  chain...\u001b[0m\n",
      "\n",
      "\u001b[1m> Finished chain.\u001b[0m\n"
     ]
    },
    {
     "data": {
      "text/plain": [
       "{'query': 'What are the skills of Ranjeet',\n",
       " 'result': \" Ranjeet's skills include programming/frameworks such as NodeJs, Python, Javascript, Java, AWS, MySQL, PostgreSQL, MongoDB, Cassandra, Bigquery, AWS Athena, Redis, Elasticsearch, HTML, CSS, ReactJs, AngularJs, Shell Script, Cloud, Git, JIRA, Redmine, Docker, Google Analytics, Mixpanel, Looker Studio, Camunda BPM, Keycloak, Microservices, Linux, REST APIs, Serverless, Coaching, and Agile Methodology.\",\n",
       " 'source_documents': [Document(page_content=\"+918985086974\\nranjeetkumar692@gmail.com\\nLinkedIn , GithubC O N T A C T P R O F I L E\\nS K I L L S\\nE D U C A T I O NW O R K  E X P E R I E N C E\\nProgramming/Frameworks\\nNodeJs, Python, Javascript, Java,\\nAWSMySQL, PostgreSQL, MongoDB,\\nCassandra, Bigquery, AWS Athena, Redis,\\nElasticsearch  \\nMaster of Computer Applications\\nUniversity of Hyderabad, Hyderabad\\n2012-2015\\nB.Sc. (Information Technology)\\nSt. Xavier's College, Ranchi\\n2008-2011Sr Product Architect\\nSummit Publishing Co, Inc  (Remote)\\nRecommendation System:  Developed a recommendation system that can be\\neasily integrated with Summit Media's brand websites and recommend articles\\nfor further reading to the readers. It was a javascript widget using NodeJS-\\nbased backend and ML services.\\nAWS Cost Optimization:  Optimized datalake and data warehouse usages to\\nreduce data product infrastructure costs up to $6000 monthly.    \\nUnified Identity Solution:  a javascript and python-based project to identify guest\", metadata={'page': 0, 'chunk': 0, 'source': '0-0'}),\n",
       "  Document(page_content='users across domains for better ad target.   \\nNewsletter Automation:  A Python project to send newsletters to users based on\\ntheir past read history.\\nArticle  Auto Tagging:  A machine learning-based service that generates tags\\nbased on a taxonomy sheet for better SEO performance.Jan 2021-PresentI am a senior software product architect & developer and have a total of 8 years of\\nexperience. I am seeking a role as a solution architect in a core tech-based\\norganization.\\nIn my current organization I am mostly working on designing and implementing\\ndata-based products, I mostly work with software, data engineers, and business\\nowners. I also went through a leadership program in Summit where I have been\\ntrained to use coaching methods in team building. I have a great interest in\\ndesigning software products, learning new technologies, and reading about how\\ndifferent business domains use tech.  \\nL A N G U A G E S\\nEnglish HindiR A N J E E T  K U M A R\\nSOFTWARE ARCHITECT', metadata={'page': 0, 'chunk': 0, 'source': '0-1'}),\n",
       "  Document(page_content='Co-founder, Full Stack Developer\\nNeo Script Technologies Pvt Ltd\\nUniversity ERP: A BPM & Rule Engine-based digital transformation project to\\nbring all student-related processes online. The scope of this project included\\nrequirements collection, development, and training. We developed this project\\nas a partner with the University of Hyderabad.\\nAgri Lien Management: A web application for bankers owned by Star Agri, to\\nprovide loans against agri products.  \\nOnline Coding Lab: This is the core product of Neoscript. It is a web-based\\napplication to make coding classes interactive in college labs where teacher can\\ninstantly give feedback to students about their coding skills. Platform has a\\nbuilt-in online-judge to check correctness and coding styles.Feb 2016-Dec 2020\\nDevOps, Full Stack Developer\\nCloudboost.io April 2015-Jan 2016\\nMobile App: Developed an Ionic-based hybrid mobile application that enables\\nusers to buy nearby deals. It was developed for another startup called FYIPE.', metadata={'page': 0, 'chunk': 0, 'source': '0-2'}),\n",
       "  Document(page_content=\"Product on Cloud Marketplace:   Created a virtual image with auto-deployment\\nscripts to launch a compute instance on AWS, Azure, and private servers.\\nSDK Development: Contributed to Javascript SDK and created Java SDK to use\\nCloudboost's services in web and native apps.\\nCloudboost Backend: contributed to the development of real-time and file\\nupload features in NodeJS and worked with multiple databases.HTML, CSS, ReactJs, AngularJs, Shell\\nScript\\nDatabases\\nCloud\\nTools\\nGit, JIRA, Redmine, Docker, Google\\nAnalytics, Mixpanel, Looker Studio,\\ncamunda BPM, KeycloakHyderabad\\nOthers\\nMicroservices, Linux, REST APIs,\\nServerless, Coaching, Agile Methodology\", metadata={'page': 0, 'chunk': 0, 'source': '0-3'})]}"
      ]
     },
     "execution_count": 13,
     "metadata": {},
     "output_type": "execute_result"
    }
   ],
   "source": [
    "qa(\"What are the skills of Ranjeet\")"
   ]
  },
  {
   "cell_type": "code",
   "execution_count": 15,
   "id": "f7cd8ba9-4b50-4272-ab98-14a134e241d1",
   "metadata": {},
   "outputs": [
    {
     "name": "stdout",
     "output_type": "stream",
     "text": [
      "\n",
      "\n",
      "\u001b[1m> Entering new  chain...\u001b[0m\n",
      "\n",
      "\u001b[1m> Finished chain.\u001b[0m\n"
     ]
    },
    {
     "data": {
      "text/plain": [
       "{'query': \"How many year's of experience Ranjeet has?\",\n",
       " 'result': ' Ranjeet has 8 years of experience.',\n",
       " 'source_documents': [Document(page_content=\"+918985086974\\nranjeetkumar692@gmail.com\\nLinkedIn , GithubC O N T A C T P R O F I L E\\nS K I L L S\\nE D U C A T I O NW O R K  E X P E R I E N C E\\nProgramming/Frameworks\\nNodeJs, Python, Javascript, Java,\\nAWSMySQL, PostgreSQL, MongoDB,\\nCassandra, Bigquery, AWS Athena, Redis,\\nElasticsearch  \\nMaster of Computer Applications\\nUniversity of Hyderabad, Hyderabad\\n2012-2015\\nB.Sc. (Information Technology)\\nSt. Xavier's College, Ranchi\\n2008-2011Sr Product Architect\\nSummit Publishing Co, Inc  (Remote)\\nRecommendation System:  Developed a recommendation system that can be\\neasily integrated with Summit Media's brand websites and recommend articles\\nfor further reading to the readers. It was a javascript widget using NodeJS-\\nbased backend and ML services.\\nAWS Cost Optimization:  Optimized datalake and data warehouse usages to\\nreduce data product infrastructure costs up to $6000 monthly.    \\nUnified Identity Solution:  a javascript and python-based project to identify guest\", metadata={'page': 0, 'chunk': 0, 'source': '0-0'}),\n",
       "  Document(page_content='users across domains for better ad target.   \\nNewsletter Automation:  A Python project to send newsletters to users based on\\ntheir past read history.\\nArticle  Auto Tagging:  A machine learning-based service that generates tags\\nbased on a taxonomy sheet for better SEO performance.Jan 2021-PresentI am a senior software product architect & developer and have a total of 8 years of\\nexperience. I am seeking a role as a solution architect in a core tech-based\\norganization.\\nIn my current organization I am mostly working on designing and implementing\\ndata-based products, I mostly work with software, data engineers, and business\\nowners. I also went through a leadership program in Summit where I have been\\ntrained to use coaching methods in team building. I have a great interest in\\ndesigning software products, learning new technologies, and reading about how\\ndifferent business domains use tech.  \\nL A N G U A G E S\\nEnglish HindiR A N J E E T  K U M A R\\nSOFTWARE ARCHITECT', metadata={'page': 0, 'chunk': 0, 'source': '0-1'}),\n",
       "  Document(page_content='Co-founder, Full Stack Developer\\nNeo Script Technologies Pvt Ltd\\nUniversity ERP: A BPM & Rule Engine-based digital transformation project to\\nbring all student-related processes online. The scope of this project included\\nrequirements collection, development, and training. We developed this project\\nas a partner with the University of Hyderabad.\\nAgri Lien Management: A web application for bankers owned by Star Agri, to\\nprovide loans against agri products.  \\nOnline Coding Lab: This is the core product of Neoscript. It is a web-based\\napplication to make coding classes interactive in college labs where teacher can\\ninstantly give feedback to students about their coding skills. Platform has a\\nbuilt-in online-judge to check correctness and coding styles.Feb 2016-Dec 2020\\nDevOps, Full Stack Developer\\nCloudboost.io April 2015-Jan 2016\\nMobile App: Developed an Ionic-based hybrid mobile application that enables\\nusers to buy nearby deals. It was developed for another startup called FYIPE.', metadata={'page': 0, 'chunk': 0, 'source': '0-2'}),\n",
       "  Document(page_content=\"Product on Cloud Marketplace:   Created a virtual image with auto-deployment\\nscripts to launch a compute instance on AWS, Azure, and private servers.\\nSDK Development: Contributed to Javascript SDK and created Java SDK to use\\nCloudboost's services in web and native apps.\\nCloudboost Backend: contributed to the development of real-time and file\\nupload features in NodeJS and worked with multiple databases.HTML, CSS, ReactJs, AngularJs, Shell\\nScript\\nDatabases\\nCloud\\nTools\\nGit, JIRA, Redmine, Docker, Google\\nAnalytics, Mixpanel, Looker Studio,\\ncamunda BPM, KeycloakHyderabad\\nOthers\\nMicroservices, Linux, REST APIs,\\nServerless, Coaching, Agile Methodology\", metadata={'page': 0, 'chunk': 0, 'source': '0-3'})]}"
      ]
     },
     "execution_count": 15,
     "metadata": {},
     "output_type": "execute_result"
    }
   ],
   "source": [
    "qa(\"How many year's of experience Ranjeet has?\")"
   ]
  },
  {
   "cell_type": "code",
   "execution_count": 16,
   "id": "59ef089c-1569-4a57-ab9c-f43c24650dd6",
   "metadata": {},
   "outputs": [
    {
     "name": "stdout",
     "output_type": "stream",
     "text": [
      "\n",
      "\n",
      "\u001b[1m> Entering new  chain...\u001b[0m\n",
      "\n",
      "\u001b[1m> Finished chain.\u001b[0m\n"
     ]
    },
    {
     "data": {
      "text/plain": [
       "{'query': 'Can you list down all organizations, where Ranjeet worked in past',\n",
       " 'result': ' Ranjeet worked at Summit Publishing Co, Inc, Neo Script Technologies Pvt Ltd and Cloudboost.io.',\n",
       " 'source_documents': [Document(page_content=\"+918985086974\\nranjeetkumar692@gmail.com\\nLinkedIn , GithubC O N T A C T P R O F I L E\\nS K I L L S\\nE D U C A T I O NW O R K  E X P E R I E N C E\\nProgramming/Frameworks\\nNodeJs, Python, Javascript, Java,\\nAWSMySQL, PostgreSQL, MongoDB,\\nCassandra, Bigquery, AWS Athena, Redis,\\nElasticsearch  \\nMaster of Computer Applications\\nUniversity of Hyderabad, Hyderabad\\n2012-2015\\nB.Sc. (Information Technology)\\nSt. Xavier's College, Ranchi\\n2008-2011Sr Product Architect\\nSummit Publishing Co, Inc  (Remote)\\nRecommendation System:  Developed a recommendation system that can be\\neasily integrated with Summit Media's brand websites and recommend articles\\nfor further reading to the readers. It was a javascript widget using NodeJS-\\nbased backend and ML services.\\nAWS Cost Optimization:  Optimized datalake and data warehouse usages to\\nreduce data product infrastructure costs up to $6000 monthly.    \\nUnified Identity Solution:  a javascript and python-based project to identify guest\", metadata={'page': 0, 'chunk': 0, 'source': '0-0'}),\n",
       "  Document(page_content='users across domains for better ad target.   \\nNewsletter Automation:  A Python project to send newsletters to users based on\\ntheir past read history.\\nArticle  Auto Tagging:  A machine learning-based service that generates tags\\nbased on a taxonomy sheet for better SEO performance.Jan 2021-PresentI am a senior software product architect & developer and have a total of 8 years of\\nexperience. I am seeking a role as a solution architect in a core tech-based\\norganization.\\nIn my current organization I am mostly working on designing and implementing\\ndata-based products, I mostly work with software, data engineers, and business\\nowners. I also went through a leadership program in Summit where I have been\\ntrained to use coaching methods in team building. I have a great interest in\\ndesigning software products, learning new technologies, and reading about how\\ndifferent business domains use tech.  \\nL A N G U A G E S\\nEnglish HindiR A N J E E T  K U M A R\\nSOFTWARE ARCHITECT', metadata={'page': 0, 'chunk': 0, 'source': '0-1'}),\n",
       "  Document(page_content='Co-founder, Full Stack Developer\\nNeo Script Technologies Pvt Ltd\\nUniversity ERP: A BPM & Rule Engine-based digital transformation project to\\nbring all student-related processes online. The scope of this project included\\nrequirements collection, development, and training. We developed this project\\nas a partner with the University of Hyderabad.\\nAgri Lien Management: A web application for bankers owned by Star Agri, to\\nprovide loans against agri products.  \\nOnline Coding Lab: This is the core product of Neoscript. It is a web-based\\napplication to make coding classes interactive in college labs where teacher can\\ninstantly give feedback to students about their coding skills. Platform has a\\nbuilt-in online-judge to check correctness and coding styles.Feb 2016-Dec 2020\\nDevOps, Full Stack Developer\\nCloudboost.io April 2015-Jan 2016\\nMobile App: Developed an Ionic-based hybrid mobile application that enables\\nusers to buy nearby deals. It was developed for another startup called FYIPE.', metadata={'page': 0, 'chunk': 0, 'source': '0-2'}),\n",
       "  Document(page_content=\"Product on Cloud Marketplace:   Created a virtual image with auto-deployment\\nscripts to launch a compute instance on AWS, Azure, and private servers.\\nSDK Development: Contributed to Javascript SDK and created Java SDK to use\\nCloudboost's services in web and native apps.\\nCloudboost Backend: contributed to the development of real-time and file\\nupload features in NodeJS and worked with multiple databases.HTML, CSS, ReactJs, AngularJs, Shell\\nScript\\nDatabases\\nCloud\\nTools\\nGit, JIRA, Redmine, Docker, Google\\nAnalytics, Mixpanel, Looker Studio,\\ncamunda BPM, KeycloakHyderabad\\nOthers\\nMicroservices, Linux, REST APIs,\\nServerless, Coaching, Agile Methodology\", metadata={'page': 0, 'chunk': 0, 'source': '0-3'})]}"
      ]
     },
     "execution_count": 16,
     "metadata": {},
     "output_type": "execute_result"
    }
   ],
   "source": [
    "qa(\"Can you list down all organizations, where Ranjeet worked in past\")"
   ]
  },
  {
   "cell_type": "code",
   "execution_count": 14,
   "id": "d876734c-f7d3-45f4-995c-bd82c0f841c5",
   "metadata": {},
   "outputs": [
    {
     "name": "stdout",
     "output_type": "stream",
     "text": [
      "\n",
      "\n",
      "\u001b[1m> Entering new  chain...\u001b[0m\n",
      "\n",
      "\u001b[1m> Finished chain.\u001b[0m\n"
     ]
    },
    {
     "data": {
      "text/plain": [
       "{'query': 'List down education qualifications of Ranjeet',\n",
       " 'result': \" Ranjeet has a Master of Computer Applications from University of Hyderabad and a B.Sc. (Information Technology) from St. Xavier's College, Ranchi.\",\n",
       " 'source_documents': [Document(page_content=\"+918985086974\\nranjeetkumar692@gmail.com\\nLinkedIn , GithubC O N T A C T P R O F I L E\\nS K I L L S\\nE D U C A T I O NW O R K  E X P E R I E N C E\\nProgramming/Frameworks\\nNodeJs, Python, Javascript, Java,\\nAWSMySQL, PostgreSQL, MongoDB,\\nCassandra, Bigquery, AWS Athena, Redis,\\nElasticsearch  \\nMaster of Computer Applications\\nUniversity of Hyderabad, Hyderabad\\n2012-2015\\nB.Sc. (Information Technology)\\nSt. Xavier's College, Ranchi\\n2008-2011Sr Product Architect\\nSummit Publishing Co, Inc  (Remote)\\nRecommendation System:  Developed a recommendation system that can be\\neasily integrated with Summit Media's brand websites and recommend articles\\nfor further reading to the readers. It was a javascript widget using NodeJS-\\nbased backend and ML services.\\nAWS Cost Optimization:  Optimized datalake and data warehouse usages to\\nreduce data product infrastructure costs up to $6000 monthly.    \\nUnified Identity Solution:  a javascript and python-based project to identify guest\", metadata={'page': 0, 'chunk': 0, 'source': '0-0'}),\n",
       "  Document(page_content='users across domains for better ad target.   \\nNewsletter Automation:  A Python project to send newsletters to users based on\\ntheir past read history.\\nArticle  Auto Tagging:  A machine learning-based service that generates tags\\nbased on a taxonomy sheet for better SEO performance.Jan 2021-PresentI am a senior software product architect & developer and have a total of 8 years of\\nexperience. I am seeking a role as a solution architect in a core tech-based\\norganization.\\nIn my current organization I am mostly working on designing and implementing\\ndata-based products, I mostly work with software, data engineers, and business\\nowners. I also went through a leadership program in Summit where I have been\\ntrained to use coaching methods in team building. I have a great interest in\\ndesigning software products, learning new technologies, and reading about how\\ndifferent business domains use tech.  \\nL A N G U A G E S\\nEnglish HindiR A N J E E T  K U M A R\\nSOFTWARE ARCHITECT', metadata={'page': 0, 'chunk': 0, 'source': '0-1'}),\n",
       "  Document(page_content='Co-founder, Full Stack Developer\\nNeo Script Technologies Pvt Ltd\\nUniversity ERP: A BPM & Rule Engine-based digital transformation project to\\nbring all student-related processes online. The scope of this project included\\nrequirements collection, development, and training. We developed this project\\nas a partner with the University of Hyderabad.\\nAgri Lien Management: A web application for bankers owned by Star Agri, to\\nprovide loans against agri products.  \\nOnline Coding Lab: This is the core product of Neoscript. It is a web-based\\napplication to make coding classes interactive in college labs where teacher can\\ninstantly give feedback to students about their coding skills. Platform has a\\nbuilt-in online-judge to check correctness and coding styles.Feb 2016-Dec 2020\\nDevOps, Full Stack Developer\\nCloudboost.io April 2015-Jan 2016\\nMobile App: Developed an Ionic-based hybrid mobile application that enables\\nusers to buy nearby deals. It was developed for another startup called FYIPE.', metadata={'page': 0, 'chunk': 0, 'source': '0-2'}),\n",
       "  Document(page_content=\"Product on Cloud Marketplace:   Created a virtual image with auto-deployment\\nscripts to launch a compute instance on AWS, Azure, and private servers.\\nSDK Development: Contributed to Javascript SDK and created Java SDK to use\\nCloudboost's services in web and native apps.\\nCloudboost Backend: contributed to the development of real-time and file\\nupload features in NodeJS and worked with multiple databases.HTML, CSS, ReactJs, AngularJs, Shell\\nScript\\nDatabases\\nCloud\\nTools\\nGit, JIRA, Redmine, Docker, Google\\nAnalytics, Mixpanel, Looker Studio,\\ncamunda BPM, KeycloakHyderabad\\nOthers\\nMicroservices, Linux, REST APIs,\\nServerless, Coaching, Agile Methodology\", metadata={'page': 0, 'chunk': 0, 'source': '0-3'})]}"
      ]
     },
     "execution_count": 14,
     "metadata": {},
     "output_type": "execute_result"
    }
   ],
   "source": [
    "qa(\"List down education qualifications of Ranjeet\")"
   ]
  },
  {
   "cell_type": "code",
   "execution_count": null,
   "id": "c4e7be9d-8473-4c77-aac2-f1221484b646",
   "metadata": {},
   "outputs": [],
   "source": []
  }
 ],
 "metadata": {
  "kernelspec": {
   "display_name": "Python 3 (ipykernel)",
   "language": "python",
   "name": "python3"
  },
  "language_info": {
   "codemirror_mode": {
    "name": "ipython",
    "version": 3
   },
   "file_extension": ".py",
   "mimetype": "text/x-python",
   "name": "python",
   "nbconvert_exporter": "python",
   "pygments_lexer": "ipython3",
   "version": "3.10.6"
  }
 },
 "nbformat": 4,
 "nbformat_minor": 5
}
